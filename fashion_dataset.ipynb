{
 "cells": [
  {
   "cell_type": "markdown",
   "id": "99c20952",
   "metadata": {},
   "source": [
    "# Load and preprocess the data\n"
   ]
  },
  {
   "cell_type": "code",
   "execution_count": 2,
   "id": "4571a3c5",
   "metadata": {},
   "outputs": [
    {
     "name": "stdout",
     "output_type": "stream",
     "text": [
      "   order_id          order_date   sku      color      size  unit_price  \\\n",
      "0         1   2022/6/1 16:05:00   708  Dark Blue       2XL         298   \n",
      "1         1   2022/6/1 16:05:00    89  Dark Blue       2XL         258   \n",
      "2         2  2022/6/10 17:03:00  bobo      Cream  One Size         228   \n",
      "3         3  2022/6/10 19:59:00   799  Dark Blue        XL         264   \n",
      "4         4  2022/6/11 11:42:00   799  Dark Blue         M         264   \n",
      "\n",
      "   quantity  revenue  \n",
      "0         1      298  \n",
      "1         1      258  \n",
      "2         1      228  \n",
      "3         1      264  \n",
      "4         1      264  \n"
     ]
    }
   ],
   "source": [
    "import pandas as pd\n",
    "import numpy as np\n",
    "import matplotlib.pyplot as plt\n",
    "import seaborn as sns\n",
    "\n",
    "# Replace 'dataset_12345678.csv' with the actual name of your dataset file\n",
    "data = pd.read_csv('_ 22049314.csv')\n",
    "\n",
    "# Display the first few rows of the dataset to check if it loaded correctly\n",
    "print(data.head())\n"
   ]
  },
  {
   "cell_type": "code",
   "execution_count": 3,
   "id": "0e511e55",
   "metadata": {},
   "outputs": [
    {
     "name": "stdout",
     "output_type": "stream",
     "text": [
      "<class 'pandas.core.frame.DataFrame'>\n",
      "RangeIndex: 527 entries, 0 to 526\n",
      "Data columns (total 8 columns):\n",
      " #   Column      Non-Null Count  Dtype \n",
      "---  ------      --------------  ----- \n",
      " 0   order_id    527 non-null    int64 \n",
      " 1   order_date  527 non-null    object\n",
      " 2   sku         527 non-null    object\n",
      " 3   color       527 non-null    object\n",
      " 4   size        490 non-null    object\n",
      " 5   unit_price  527 non-null    int64 \n",
      " 6   quantity    527 non-null    int64 \n",
      " 7   revenue     527 non-null    int64 \n",
      "dtypes: int64(4), object(4)\n",
      "memory usage: 33.1+ KB\n"
     ]
    }
   ],
   "source": [
    "data.info()"
   ]
  },
  {
   "cell_type": "code",
   "execution_count": 4,
   "id": "19ce9496",
   "metadata": {},
   "outputs": [
    {
     "data": {
      "text/html": [
       "<div>\n",
       "<style scoped>\n",
       "    .dataframe tbody tr th:only-of-type {\n",
       "        vertical-align: middle;\n",
       "    }\n",
       "\n",
       "    .dataframe tbody tr th {\n",
       "        vertical-align: top;\n",
       "    }\n",
       "\n",
       "    .dataframe thead th {\n",
       "        text-align: right;\n",
       "    }\n",
       "</style>\n",
       "<table border=\"1\" class=\"dataframe\">\n",
       "  <thead>\n",
       "    <tr style=\"text-align: right;\">\n",
       "      <th></th>\n",
       "      <th>order_id</th>\n",
       "      <th>unit_price</th>\n",
       "      <th>quantity</th>\n",
       "      <th>revenue</th>\n",
       "    </tr>\n",
       "  </thead>\n",
       "  <tbody>\n",
       "    <tr>\n",
       "      <th>count</th>\n",
       "      <td>527.000000</td>\n",
       "      <td>527.000000</td>\n",
       "      <td>527.000000</td>\n",
       "      <td>527.000000</td>\n",
       "    </tr>\n",
       "    <tr>\n",
       "      <th>mean</th>\n",
       "      <td>115.313093</td>\n",
       "      <td>274.973435</td>\n",
       "      <td>1.011385</td>\n",
       "      <td>278.024668</td>\n",
       "    </tr>\n",
       "    <tr>\n",
       "      <th>std</th>\n",
       "      <td>73.106716</td>\n",
       "      <td>34.517412</td>\n",
       "      <td>0.106193</td>\n",
       "      <td>44.741095</td>\n",
       "    </tr>\n",
       "    <tr>\n",
       "      <th>min</th>\n",
       "      <td>1.000000</td>\n",
       "      <td>191.000000</td>\n",
       "      <td>1.000000</td>\n",
       "      <td>191.000000</td>\n",
       "    </tr>\n",
       "    <tr>\n",
       "      <th>25%</th>\n",
       "      <td>54.000000</td>\n",
       "      <td>266.000000</td>\n",
       "      <td>1.000000</td>\n",
       "      <td>266.000000</td>\n",
       "    </tr>\n",
       "    <tr>\n",
       "      <th>50%</th>\n",
       "      <td>110.000000</td>\n",
       "      <td>278.000000</td>\n",
       "      <td>1.000000</td>\n",
       "      <td>278.000000</td>\n",
       "    </tr>\n",
       "    <tr>\n",
       "      <th>75%</th>\n",
       "      <td>166.000000</td>\n",
       "      <td>288.000000</td>\n",
       "      <td>1.000000</td>\n",
       "      <td>288.000000</td>\n",
       "    </tr>\n",
       "    <tr>\n",
       "      <th>max</th>\n",
       "      <td>273.000000</td>\n",
       "      <td>899.000000</td>\n",
       "      <td>2.000000</td>\n",
       "      <td>899.000000</td>\n",
       "    </tr>\n",
       "  </tbody>\n",
       "</table>\n",
       "</div>"
      ],
      "text/plain": [
       "         order_id  unit_price    quantity     revenue\n",
       "count  527.000000  527.000000  527.000000  527.000000\n",
       "mean   115.313093  274.973435    1.011385  278.024668\n",
       "std     73.106716   34.517412    0.106193   44.741095\n",
       "min      1.000000  191.000000    1.000000  191.000000\n",
       "25%     54.000000  266.000000    1.000000  266.000000\n",
       "50%    110.000000  278.000000    1.000000  278.000000\n",
       "75%    166.000000  288.000000    1.000000  288.000000\n",
       "max    273.000000  899.000000    2.000000  899.000000"
      ]
     },
     "execution_count": 4,
     "metadata": {},
     "output_type": "execute_result"
    }
   ],
   "source": [
    "data.describe()"
   ]
  },
  {
   "cell_type": "code",
   "execution_count": 5,
   "id": "390d7c10",
   "metadata": {},
   "outputs": [],
   "source": [
    "data['size'].fillna(data['size'].mode()[0], inplace=True)"
   ]
  },
  {
   "cell_type": "code",
   "execution_count": 6,
   "id": "aa26104f",
   "metadata": {},
   "outputs": [
    {
     "name": "stdout",
     "output_type": "stream",
     "text": [
      "<class 'pandas.core.frame.DataFrame'>\n",
      "RangeIndex: 527 entries, 0 to 526\n",
      "Data columns (total 8 columns):\n",
      " #   Column      Non-Null Count  Dtype \n",
      "---  ------      --------------  ----- \n",
      " 0   order_id    527 non-null    int64 \n",
      " 1   order_date  527 non-null    object\n",
      " 2   sku         527 non-null    object\n",
      " 3   color       527 non-null    object\n",
      " 4   size        527 non-null    object\n",
      " 5   unit_price  527 non-null    int64 \n",
      " 6   quantity    527 non-null    int64 \n",
      " 7   revenue     527 non-null    int64 \n",
      "dtypes: int64(4), object(4)\n",
      "memory usage: 33.1+ KB\n"
     ]
    }
   ],
   "source": [
    "data.info()"
   ]
  },
  {
   "cell_type": "markdown",
   "id": "0795201e",
   "metadata": {},
   "source": [
    "# 1. Calculate Total Revenue Per Order:\n",
    "What is the total revenue per order?"
   ]
  },
  {
   "cell_type": "code",
   "execution_count": 10,
   "id": "561a9476",
   "metadata": {},
   "outputs": [
    {
     "name": "stdout",
     "output_type": "stream",
     "text": [
      "order_id\n",
      "1      754\n",
      "2      473\n",
      "3      542\n",
      "4      542\n",
      "5      542\n",
      "      ... \n",
      "269    564\n",
      "270    278\n",
      "271    278\n",
      "272    278\n",
      "273    278\n",
      "Name: revenue, Length: 273, dtype: int64\n",
      "Order ID with the highest total revenue per order: 134\n",
      "Highest total revenue per order: 3914\n"
     ]
    }
   ],
   "source": [
    "# Assuming your dataset is named 'data'\n",
    "total_revenue_per_order = data.groupby('order_id')['revenue'].sum()\n",
    "\n",
    "# Displaying the total revenue per order\n",
    "print(total_revenue_per_order)\n",
    "\n",
    "# Find the order_id with the highest total revenue per order\n",
    "order_id_max_revenue = total_revenue_per_order.idxmax()\n",
    "\n",
    "# Print the order_id with the highest total revenue per order\n",
    "print(\"Order ID with the highest total revenue per order:\", order_id_max_revenue)\n",
    "\n",
    "# Find the highest total revenue per order value\n",
    "max_revenue_per_order = total_revenue_per_order.max()\n",
    "\n",
    "# Print the highest total revenue per order value\n",
    "print(\"Highest total revenue per order:\", max_revenue_per_order)\n"
   ]
  },
  {
   "cell_type": "markdown",
   "id": "0515f7f3",
   "metadata": {},
   "source": [
    "# 2. Find the Most Popular Colour:\n",
    "Determine which colour has the highest number of items sold"
   ]
  },
  {
   "cell_type": "code",
   "execution_count": 11,
   "id": "3bf84787",
   "metadata": {},
   "outputs": [
    {
     "data": {
      "image/png": "[encoded data removed]",
      "text/plain": [
       "<Figure size 1000x600 with 1 Axes>"
      ]
     },
     "metadata": {},
     "output_type": "display_data"
    }
   ],
   "source": [
    "#Calculate Counts and Percentages\n",
    "counts = data['color'].value_counts()\n",
    "percentages = counts / counts.sum() * 100\n",
    "\n",
    "#Define Color Mapping\n",
    "color_mapping = {\n",
    "    'Dark Blue': '#96b1d8',\n",
    "    'Light Blue': '#b7dde3',\n",
    "    'Black': '#d3d3d3',\n",
    "}\n",
    "\n",
    "#Create a New Column 'colors_grouped\n",
    "data['colors_grouped'] = data['color'].apply(lambda x: x if percentages[x] >= 2 else 'Others')\n",
    "\n",
    "#Calculate Grouped Counts and Percentages\n",
    "grouped_counts = data['colors_grouped'].value_counts()\n",
    "grouped_percentages = grouped_counts / grouped_counts.sum() * 100\n",
    "\n",
    "#Create a Pie Chart\n",
    "colors = [color_mapping.get(color, '#e3c8d6') for color in grouped_percentages.index]\n",
    "plt.figure(figsize=(10, 6))\n",
    "plt.pie(grouped_percentages, labels=None, autopct='%1.1f%%', startangle=140, colors=colors)\n",
    "\n",
    "#Display the Chart with Legend\n",
    "plt.axis('equal')\n",
    "plt.legend(grouped_percentages.index, loc='center left', bbox_to_anchor=(1, 0.5))\n",
    "plt.title('Distribution of Colors')\n",
    "plt.show()"
   ]
  },
  {
   "cell_type": "markdown",
   "id": "eac7320b",
   "metadata": {},
   "source": [
    "# 3. Average Revenue Per Size:\n",
    "Calculate the average revenue generated from sales for each size category"
   ]
  },
  {
   "cell_type": "code",
   "execution_count": 13,
   "id": "bdf5c7fb",
   "metadata": {},
   "outputs": [
    {
     "name": "stdout",
     "output_type": "stream",
     "text": [
      "size\n",
      "2XL         288.883721\n",
      "3XL         282.525000\n",
      "4XL         356.111111\n",
      "L           278.703297\n",
      "M           279.945652\n",
      "One SIze    198.000000\n",
      "One Size    262.066667\n",
      "S           227.000000\n",
      "XL          275.940299\n",
      "Name: revenue, dtype: float64\n"
     ]
    },
    {
     "data": {
      "image/png": "[encoded data removed]",
      "text/plain": [
       "<Figure size 640x480 with 1 Axes>"
      ]
     },
     "metadata": {},
     "output_type": "display_data"
    }
   ],
   "source": [
    "# Calculate the average revenue per size category\n",
    "average_revenue_per_size = data.groupby('size')['revenue'].mean()\n",
    "\n",
    "# Display the average revenue per size category\n",
    "print(average_revenue_per_size)\n",
    "\n",
    "# Plotting the average revenue per size category\n",
    "average_revenue_per_size.plot(kind='bar', color='skyblue')\n",
    "plt.xlabel('Size')\n",
    "plt.ylabel('Average Revenue')\n",
    "plt.title('Average Revenue per Size Category')\n",
    "plt.xticks(rotation=0)\n",
    "plt.show()"
   ]
  },
  {
   "cell_type": "markdown",
   "id": "08d9e4d2",
   "metadata": {},
   "source": [
    "# 4. SKU Performance Analysis:\n",
    "For each SKU, calculate the total revenue and the total quantity sold"
   ]
  },
  {
   "cell_type": "code",
   "execution_count": 14,
   "id": "ec8edc43",
   "metadata": {},
   "outputs": [
    {
     "name": "stdout",
     "output_type": "stream",
     "text": [
      "      sku  revenue  quantity\n",
      "0     127      714         3\n",
      "1    1499      574         2\n",
      "2    1719     2052         8\n",
      "3     218     2204         7\n",
      "4     229      414         2\n",
      "5     239     4199        16\n",
      "6    2499      962         4\n",
      "7      29      227         1\n",
      "8    3081      990         5\n",
      "9     339     1084         4\n",
      "10   3799     2390         9\n",
      "11    439      258         1\n",
      "12    539      536         2\n",
      "13  61399     1112         4\n",
      "14    628      268         1\n",
      "15    708    29146        99\n",
      "16     77     4055        16\n",
      "17     79     2817         9\n",
      "18    799    79182       287\n",
      "19   8499      699         3\n",
      "20     89     3341        13\n",
      "21    897      804         3\n",
      "22   9699     4896        17\n",
      "23   bobo     3595        17\n"
     ]
    }
   ],
   "source": [
    "# Calculate total revenue and total quantity sold for each SKU\n",
    "sku_performance = data.groupby('sku').agg({'revenue': 'sum', 'quantity': 'sum'}).reset_index()\n",
    "\n",
    "# Display SKU performance\n",
    "print(sku_performance)"
   ]
  },
  {
   "cell_type": "markdown",
   "id": "5c3772af",
   "metadata": {},
   "source": [
    "This code above groups the data by the SKU column and then calculates the sum of the revenue and quantity columns for each SKU. The result is a dataframe showing the total revenue and total quantity sold for each SKU."
   ]
  },
  {
   "cell_type": "markdown",
   "id": "96427364",
   "metadata": {},
   "source": [
    "# 5. Monthly Sales Report:\n",
    "Generate a monthly sales report that includes the total number of orders, total revenue,\n",
    "and average order value."
   ]
  },
  {
   "cell_type": "code",
   "execution_count": 16,
   "id": "260d8892",
   "metadata": {},
   "outputs": [
    {
     "name": "stdout",
     "output_type": "stream",
     "text": [
      "       total_orders  total_revenue  average_order_value\n",
      "month                                                  \n",
      "6                74          25259           268.712766\n",
      "7               105          32175           282.236842\n",
      "8               131          42513           276.058442\n",
      "9               138          46572           282.254545\n"
     ]
    }
   ],
   "source": [
    "# Convert the order_date column to datetime format\n",
    "data['order_date'] = pd.to_datetime(data['order_date'])\n",
    "\n",
    "# Extract the month from the order_date column\n",
    "data['month'] = data['order_date'].dt.month\n",
    "\n",
    "# Group the data by month\n",
    "monthly_sales_report = data.groupby('month').agg(\n",
    "    total_orders=('order_id', 'nunique'),\n",
    "    total_revenue=('revenue', 'sum'),\n",
    "    average_order_value=('revenue', 'mean')\n",
    ")\n",
    "\n",
    "# Display the monthly sales report\n",
    "print(monthly_sales_report)\n"
   ]
  },
  {
   "cell_type": "code",
   "execution_count": 23,
   "id": "42fc0881",
   "metadata": {},
   "outputs": [
    {
     "name": "stdout",
     "output_type": "stream",
     "text": [
      "       total_orders  total_revenue  average_order_value month\n",
      "month                                                        \n",
      "6                74          25259           268.712766   Jun\n",
      "7               105          32175           282.236842   Jul\n",
      "8               131          42513           276.058442   Aug\n",
      "9               138          46572           282.254545   Sep\n"
     ]
    }
   ],
   "source": [
    "import calendar\n",
    "\n",
    "# Convert the order_date column to datetime format\n",
    "data['order_date'] = pd.to_datetime(data['order_date'])\n",
    "\n",
    "# Extract the month from the order_date column\n",
    "data['month'] = data['order_date'].dt.month\n",
    "\n",
    "# Group the data by month\n",
    "monthly_sales_report = data.groupby('month').agg(\n",
    "    total_orders=('order_id', 'nunique'),\n",
    "    total_revenue=('revenue', 'sum'),\n",
    "    average_order_value=('revenue', 'mean')\n",
    ")\n",
    "\n",
    "# Map month numbers to month names\n",
    "monthly_sales_report['month'] = monthly_sales_report.index.map(lambda x: calendar.month_abbr[x])\n",
    "\n",
    "# Display the updated monthly sales report\n",
    "print(monthly_sales_report)\n"
   ]
  },
  {
   "cell_type": "markdown",
   "id": "1aaa656b",
   "metadata": {},
   "source": [
    "# 6. Visualize Revenue Trends Over Time:\n",
    "Create a line chart that shows the monthly revenue trends over the time period covered\n",
    "by the dataset."
   ]
  },
  {
   "cell_type": "code",
   "execution_count": 24,
   "id": "f6e6c0d2",
   "metadata": {},
   "outputs": [
    {
     "data": {
      "image/png": "[encoded data removed]",
      "text/plain": [
       "<Figure size 1200x600 with 1 Axes>"
      ]
     },
     "metadata": {},
     "output_type": "display_data"
    }
   ],
   "source": [
    "# Import the necessary library\n",
    "import calendar\n",
    "\n",
    "# Group the data by month and calculate total revenue\n",
    "monthly_revenue = data.groupby('month')['revenue'].sum()\n",
    "\n",
    "# Convert month numbers to month names\n",
    "month_names = [calendar.month_abbr[m] for m in monthly_revenue.index]\n",
    "\n",
    "# Plot the line chart\n",
    "plt.figure(figsize=(12, 6))\n",
    "plt.plot(month_names, monthly_revenue.values, marker='o', color='b', linestyle='-')\n",
    "plt.title('Monthly Revenue Trends')\n",
    "plt.xlabel('Month')\n",
    "plt.ylabel('Total Revenue')\n",
    "plt.grid(True)\n",
    "plt.show()\n"
   ]
  }
 ],
 "metadata": {
  "kernelspec": {
   "display_name": "Python 3 (ipykernel)",
   "language": "python",
   "name": "python3"
  },
  "language_info": {
   "codemirror_mode": {
    "name": "ipython",
    "version": 3
   },
   "file_extension": ".py",
   "mimetype": "text/x-python",
   "name": "python",
   "nbconvert_exporter": "python",
   "pygments_lexer": "ipython3",
   "version": "3.11.2"
  }
 },
 "nbformat": 4,
 "nbformat_minor": 5
}
